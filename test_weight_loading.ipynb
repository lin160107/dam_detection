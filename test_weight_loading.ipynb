{
 "cells": [
  {
   "cell_type": "code",
   "execution_count": 1,
   "metadata": {},
   "outputs": [
    {
     "name": "stderr",
     "output_type": "stream",
     "text": [
      "/vol/tensusers2/sdooper/Anaconda3/envs/dam/lib/python3.6/site-packages/tensorflow/python/framework/dtypes.py:516: FutureWarning: Passing (type, 1) or '1type' as a synonym of type is deprecated; in a future version of numpy, it will be understood as (type, (1,)) / '(1,)type'.\n",
      "  _np_qint8 = np.dtype([(\"qint8\", np.int8, 1)])\n",
      "/vol/tensusers2/sdooper/Anaconda3/envs/dam/lib/python3.6/site-packages/tensorflow/python/framework/dtypes.py:517: FutureWarning: Passing (type, 1) or '1type' as a synonym of type is deprecated; in a future version of numpy, it will be understood as (type, (1,)) / '(1,)type'.\n",
      "  _np_quint8 = np.dtype([(\"quint8\", np.uint8, 1)])\n",
      "/vol/tensusers2/sdooper/Anaconda3/envs/dam/lib/python3.6/site-packages/tensorflow/python/framework/dtypes.py:518: FutureWarning: Passing (type, 1) or '1type' as a synonym of type is deprecated; in a future version of numpy, it will be understood as (type, (1,)) / '(1,)type'.\n",
      "  _np_qint16 = np.dtype([(\"qint16\", np.int16, 1)])\n",
      "/vol/tensusers2/sdooper/Anaconda3/envs/dam/lib/python3.6/site-packages/tensorflow/python/framework/dtypes.py:519: FutureWarning: Passing (type, 1) or '1type' as a synonym of type is deprecated; in a future version of numpy, it will be understood as (type, (1,)) / '(1,)type'.\n",
      "  _np_quint16 = np.dtype([(\"quint16\", np.uint16, 1)])\n",
      "/vol/tensusers2/sdooper/Anaconda3/envs/dam/lib/python3.6/site-packages/tensorflow/python/framework/dtypes.py:520: FutureWarning: Passing (type, 1) or '1type' as a synonym of type is deprecated; in a future version of numpy, it will be understood as (type, (1,)) / '(1,)type'.\n",
      "  _np_qint32 = np.dtype([(\"qint32\", np.int32, 1)])\n",
      "/vol/tensusers2/sdooper/Anaconda3/envs/dam/lib/python3.6/site-packages/tensorflow/python/framework/dtypes.py:525: FutureWarning: Passing (type, 1) or '1type' as a synonym of type is deprecated; in a future version of numpy, it will be understood as (type, (1,)) / '(1,)type'.\n",
      "  np_resource = np.dtype([(\"resource\", np.ubyte, 1)])\n",
      "/vol/tensusers2/sdooper/Anaconda3/envs/dam/lib/python3.6/site-packages/tensorboard/compat/tensorflow_stub/dtypes.py:541: FutureWarning: Passing (type, 1) or '1type' as a synonym of type is deprecated; in a future version of numpy, it will be understood as (type, (1,)) / '(1,)type'.\n",
      "  _np_qint8 = np.dtype([(\"qint8\", np.int8, 1)])\n",
      "/vol/tensusers2/sdooper/Anaconda3/envs/dam/lib/python3.6/site-packages/tensorboard/compat/tensorflow_stub/dtypes.py:542: FutureWarning: Passing (type, 1) or '1type' as a synonym of type is deprecated; in a future version of numpy, it will be understood as (type, (1,)) / '(1,)type'.\n",
      "  _np_quint8 = np.dtype([(\"quint8\", np.uint8, 1)])\n",
      "/vol/tensusers2/sdooper/Anaconda3/envs/dam/lib/python3.6/site-packages/tensorboard/compat/tensorflow_stub/dtypes.py:543: FutureWarning: Passing (type, 1) or '1type' as a synonym of type is deprecated; in a future version of numpy, it will be understood as (type, (1,)) / '(1,)type'.\n",
      "  _np_qint16 = np.dtype([(\"qint16\", np.int16, 1)])\n",
      "/vol/tensusers2/sdooper/Anaconda3/envs/dam/lib/python3.6/site-packages/tensorboard/compat/tensorflow_stub/dtypes.py:544: FutureWarning: Passing (type, 1) or '1type' as a synonym of type is deprecated; in a future version of numpy, it will be understood as (type, (1,)) / '(1,)type'.\n",
      "  _np_quint16 = np.dtype([(\"quint16\", np.uint16, 1)])\n",
      "/vol/tensusers2/sdooper/Anaconda3/envs/dam/lib/python3.6/site-packages/tensorboard/compat/tensorflow_stub/dtypes.py:545: FutureWarning: Passing (type, 1) or '1type' as a synonym of type is deprecated; in a future version of numpy, it will be understood as (type, (1,)) / '(1,)type'.\n",
      "  _np_qint32 = np.dtype([(\"qint32\", np.int32, 1)])\n",
      "/vol/tensusers2/sdooper/Anaconda3/envs/dam/lib/python3.6/site-packages/tensorboard/compat/tensorflow_stub/dtypes.py:550: FutureWarning: Passing (type, 1) or '1type' as a synonym of type is deprecated; in a future version of numpy, it will be understood as (type, (1,)) / '(1,)type'.\n",
      "  np_resource = np.dtype([(\"resource\", np.ubyte, 1)])\n"
     ]
    }
   ],
   "source": [
    "import tensorflow as tf\n",
    "tf.enable_eager_execution()\n",
    "\n",
    "import numpy as np\n",
    "import pandas as pd\n",
    "import os\n",
    "from tensorflow.keras.models import Model\n",
    "\n",
    "from models.resnet import build_resnet50\n",
    "from models.densenet import build_densenet121\n",
    "from models.darknet19 import darknet19_detection"
   ]
  },
  {
   "cell_type": "code",
   "execution_count": 2,
   "metadata": {},
   "outputs": [],
   "source": [
    "config = tf.ConfigProto()\n",
    "config.gpu_options.allow_growth=True\n",
    "sess = tf.Session(config=config)"
   ]
  },
  {
   "cell_type": "code",
   "execution_count": 3,
   "metadata": {},
   "outputs": [],
   "source": [
    "#necessary classes for model loading\n",
    "\n",
    "class BaseFeatureExtractor(object):\n",
    "    \"\"\"docstring for ClassName\"\"\"\n",
    "\n",
    "    # to be defined in each subclass\n",
    "    def __init__(self, input_size):\n",
    "        raise NotImplementedError(\"error message\")\n",
    "\n",
    "    # to be defined in each subclass\n",
    "    def normalize(self, image):\n",
    "        raise NotImplementedError(\"error message\")\n",
    "\n",
    "    def get_output_shape(self):\n",
    "        return self.feature_extractor.get_output_shape_at(-1)[1:3]\n",
    "\n",
    "    def extract(self, input_image):\n",
    "        return self.feature_extractor(input_image)\n",
    "    \n",
    "    \n",
    "class ResNet50Feature(object):\n",
    "    \n",
    "    def __init__(self, input_size):\n",
    "        params = {'num_classes': 2, 'channels': ['B4','B3','B2','MNDWI','AVE'], 'weights':'imagenet', 'top':False}\n",
    "        self.resnet50 = build_resnet50(**params)\n",
    "        \n",
    "\n",
    "class DenseNet121Feature(object):\n",
    "    \n",
    "    def __init__(self, input_size):\n",
    "        params = {'num_classes': 2, 'channels': ['B4','B3','B2','MNDWI','AVE'], 'weights':'imagenet', 'top':False}\n",
    "        self.densenet121 = build_densenet121(**params)\n",
    "        \n",
    "class Darknet19Feature(object):\n",
    "    \n",
    "    def __init__(self, input_size):\n",
    "        params = {'num_classes': 2, 'channels': ['B4','B3','B2','MNDWI','AVE'], 'weights':'imagenet', 'top':False}\n",
    "        self.darknet19 = darknet19_detection(**params)\n",
    "    "
   ]
  },
  {
   "cell_type": "code",
   "execution_count": 8,
   "metadata": {},
   "outputs": [
    {
     "name": "stdout",
     "output_type": "stream",
     "text": [
      "instantiated model with weights: imagenet\n",
      "Model: \"model_1\"\n",
      "_________________________________________________________________\n",
      "Layer (type)                 Output Shape              Param #   \n",
      "=================================================================\n",
      "inputlayer_0 (InputLayer)    [(None, None, None, 5)]   0         \n",
      "_________________________________________________________________\n",
      "conv2d_1 (Conv2D)            (None, None, None, 3)     18        \n",
      "_________________________________________________________________\n",
      "Full_YOLO_backend (Model)    (None, None, None, 1024)  50547936  \n",
      "=================================================================\n",
      "Total params: 50,547,954\n",
      "Trainable params: 50,527,282\n",
      "Non-trainable params: 20,672\n",
      "_________________________________________________________________\n"
     ]
    }
   ],
   "source": [
    "model = Darknet19Feature(input_size=[257,257])\n",
    "model1 = model.darknet19"
   ]
  },
  {
   "cell_type": "code",
   "execution_count": 11,
   "metadata": {},
   "outputs": [
    {
     "name": "stdout",
     "output_type": "stream",
     "text": [
      "Model: \"model_1\"\n",
      "_________________________________________________________________\n",
      "Layer (type)                 Output Shape              Param #   \n",
      "=================================================================\n",
      "inputlayer_0 (InputLayer)    [(None, None, None, 5)]   0         \n",
      "_________________________________________________________________\n",
      "conv2d_1 (Conv2D)            (None, None, None, 3)     18        \n",
      "_________________________________________________________________\n",
      "Full_YOLO_backend (Model)    (None, None, None, 1024)  50547936  \n",
      "=================================================================\n",
      "Total params: 50,547,954\n",
      "Trainable params: 50,527,282\n",
      "Non-trainable params: 20,672\n",
      "_________________________________________________________________\n",
      "[array([[[[-0.7001643 ,  0.10685214, -0.06933999],\n",
      "         [-0.7978253 , -0.04125755,  0.4032792 ],\n",
      "         [-0.57961106, -0.3013558 ,  0.2384147 ],\n",
      "         [-0.01017861, -0.70373017,  0.70956975],\n",
      "         [ 0.31965765,  0.02333218, -0.5410377 ]]]], dtype=float32), array([ 0.06248161,  0.06684788, -0.00197338], dtype=float32)]\n",
      "[array([[[[-0.7001643 ,  0.10685214, -0.06933999],\n",
      "         [-0.7978253 , -0.04125755,  0.4032792 ],\n",
      "         [-0.57961106, -0.3013558 ,  0.2384147 ],\n",
      "         [-0.01017861, -0.70373017,  0.70956975],\n",
      "         [ 0.31965765,  0.02333218, -0.5410377 ]]]], dtype=float32), array([ 0.06248161,  0.06684788, -0.00197338], dtype=float32)]\n"
     ]
    }
   ],
   "source": [
    "model1.summary()\n",
    "print(model1.layers[1].get_weights())\n",
    "model1.load_weights('backend_weights/darknet19_backend.h5')\n",
    "print(model1.layers[1].get_weights())"
   ]
  },
  {
   "cell_type": "code",
   "execution_count": 7,
   "metadata": {},
   "outputs": [],
   "source": [
    "model1.save_weights('darknet19_backend.h5')"
   ]
  }
 ],
 "metadata": {
  "kernelspec": {
   "display_name": "Python 3",
   "language": "python",
   "name": "python3"
  },
  "language_info": {
   "codemirror_mode": {
    "name": "ipython",
    "version": 3
   },
   "file_extension": ".py",
   "mimetype": "text/x-python",
   "name": "python",
   "nbconvert_exporter": "python",
   "pygments_lexer": "ipython3",
   "version": "3.6.9"
  }
 },
 "nbformat": 4,
 "nbformat_minor": 2
}
